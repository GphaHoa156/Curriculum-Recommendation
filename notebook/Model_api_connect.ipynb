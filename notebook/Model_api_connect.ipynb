{
  "cells": [
    {
      "cell_type": "code",
      "execution_count": 1,
      "metadata": {
        "colab": {
          "base_uri": "https://localhost:8080/"
        },
        "id": "kjdXFAaVPIBF",
        "outputId": "942bc64d-e501-424e-e81a-e22465bb0ae2"
      },
      "outputs": [
        {
          "name": "stdout",
          "output_type": "stream",
          "text": [
            "Requirement already satisfied: fastapi in e:\\python\\code_skeleton\\venv\\lib\\site-packages (0.115.13)\n",
            "Collecting uvicorn\n",
            "  Obtaining dependency information for uvicorn from https://files.pythonhosted.org/packages/d2/e2/dc81b1bd1dcfe91735810265e9d26bc8ec5da45b4c0f6237e286819194c3/uvicorn-0.35.0-py3-none-any.whl.metadata\n",
            "  Downloading uvicorn-0.35.0-py3-none-any.whl.metadata (6.5 kB)\n",
            "Requirement already satisfied: nest_asyncio in e:\\python\\code_skeleton\\venv\\lib\\site-packages (1.6.0)\n",
            "Collecting pyngrok\n",
            "  Obtaining dependency information for pyngrok from https://files.pythonhosted.org/packages/7b/81/121c612fed8c247e7703cfcc5c3a04389a575e95bacbc316c0d371eb6757/pyngrok-7.2.12-py3-none-any.whl.metadata\n",
            "  Downloading pyngrok-7.2.12-py3-none-any.whl.metadata (9.4 kB)\n",
            "Requirement already satisfied: transformers in e:\\python\\code_skeleton\\venv\\lib\\site-packages (4.52.4)\n",
            "Requirement already satisfied: starlette<0.47.0,>=0.40.0 in e:\\python\\code_skeleton\\venv\\lib\\site-packages (from fastapi) (0.46.2)\n",
            "Requirement already satisfied: pydantic!=1.8,!=1.8.1,!=2.0.0,!=2.0.1,!=2.1.0,<3.0.0,>=1.7.4 in e:\\python\\code_skeleton\\venv\\lib\\site-packages (from fastapi) (2.11.7)\n",
            "Requirement already satisfied: typing-extensions>=4.8.0 in e:\\python\\code_skeleton\\venv\\lib\\site-packages (from fastapi) (4.14.0)\n",
            "Collecting click>=7.0 (from uvicorn)\n",
            "  Obtaining dependency information for click>=7.0 from https://files.pythonhosted.org/packages/85/32/10bb5764d90a8eee674e9dc6f4db6a0ab47c8c4d0d83c27f7c39ac415a4d/click-8.2.1-py3-none-any.whl.metadata\n",
            "  Downloading click-8.2.1-py3-none-any.whl.metadata (2.5 kB)\n",
            "Requirement already satisfied: h11>=0.8 in e:\\python\\code_skeleton\\venv\\lib\\site-packages (from uvicorn) (0.16.0)\n",
            "Requirement already satisfied: PyYAML>=5.1 in e:\\python\\code_skeleton\\venv\\lib\\site-packages (from pyngrok) (6.0.2)\n",
            "Requirement already satisfied: filelock in e:\\python\\code_skeleton\\venv\\lib\\site-packages (from transformers) (3.18.0)\n",
            "Requirement already satisfied: huggingface-hub<1.0,>=0.30.0 in e:\\python\\code_skeleton\\venv\\lib\\site-packages (from transformers) (0.33.0)\n",
            "Requirement already satisfied: numpy>=1.17 in e:\\python\\code_skeleton\\venv\\lib\\site-packages (from transformers) (2.3.1)\n",
            "Requirement already satisfied: packaging>=20.0 in e:\\python\\code_skeleton\\venv\\lib\\site-packages (from transformers) (25.0)\n",
            "Requirement already satisfied: regex!=2019.12.17 in e:\\python\\code_skeleton\\venv\\lib\\site-packages (from transformers) (2024.11.6)\n",
            "Requirement already satisfied: requests in e:\\python\\code_skeleton\\venv\\lib\\site-packages (from transformers) (2.32.4)\n",
            "Requirement already satisfied: tokenizers<0.22,>=0.21 in e:\\python\\code_skeleton\\venv\\lib\\site-packages (from transformers) (0.21.1)\n",
            "Requirement already satisfied: safetensors>=0.4.3 in e:\\python\\code_skeleton\\venv\\lib\\site-packages (from transformers) (0.5.3)\n",
            "Requirement already satisfied: tqdm>=4.27 in e:\\python\\code_skeleton\\venv\\lib\\site-packages (from transformers) (4.67.1)\n",
            "Requirement already satisfied: colorama in e:\\python\\code_skeleton\\venv\\lib\\site-packages (from click>=7.0->uvicorn) (0.4.6)\n",
            "Requirement already satisfied: fsspec>=2023.5.0 in e:\\python\\code_skeleton\\venv\\lib\\site-packages (from huggingface-hub<1.0,>=0.30.0->transformers) (2025.5.1)\n",
            "Requirement already satisfied: annotated-types>=0.6.0 in e:\\python\\code_skeleton\\venv\\lib\\site-packages (from pydantic!=1.8,!=1.8.1,!=2.0.0,!=2.0.1,!=2.1.0,<3.0.0,>=1.7.4->fastapi) (0.7.0)\n",
            "Requirement already satisfied: pydantic-core==2.33.2 in e:\\python\\code_skeleton\\venv\\lib\\site-packages (from pydantic!=1.8,!=1.8.1,!=2.0.0,!=2.0.1,!=2.1.0,<3.0.0,>=1.7.4->fastapi) (2.33.2)\n",
            "Requirement already satisfied: typing-inspection>=0.4.0 in e:\\python\\code_skeleton\\venv\\lib\\site-packages (from pydantic!=1.8,!=1.8.1,!=2.0.0,!=2.0.1,!=2.1.0,<3.0.0,>=1.7.4->fastapi) (0.4.1)\n",
            "Requirement already satisfied: anyio<5,>=3.6.2 in e:\\python\\code_skeleton\\venv\\lib\\site-packages (from starlette<0.47.0,>=0.40.0->fastapi) (4.9.0)\n",
            "Requirement already satisfied: charset_normalizer<4,>=2 in e:\\python\\code_skeleton\\venv\\lib\\site-packages (from requests->transformers) (3.4.2)\n",
            "Requirement already satisfied: idna<4,>=2.5 in e:\\python\\code_skeleton\\venv\\lib\\site-packages (from requests->transformers) (3.10)\n",
            "Requirement already satisfied: urllib3<3,>=1.21.1 in e:\\python\\code_skeleton\\venv\\lib\\site-packages (from requests->transformers) (2.5.0)\n",
            "Requirement already satisfied: certifi>=2017.4.17 in e:\\python\\code_skeleton\\venv\\lib\\site-packages (from requests->transformers) (2025.6.15)\n",
            "Requirement already satisfied: sniffio>=1.1 in e:\\python\\code_skeleton\\venv\\lib\\site-packages (from anyio<5,>=3.6.2->starlette<0.47.0,>=0.40.0->fastapi) (1.3.1)\n",
            "Downloading uvicorn-0.35.0-py3-none-any.whl (66 kB)\n",
            "   ---------------------------------------- 0.0/66.4 kB ? eta -:--:--\n",
            "   ------------------ --------------------- 30.7/66.4 kB 660.6 kB/s eta 0:00:01\n",
            "   ---------------------------------------- 66.4/66.4 kB 720.1 kB/s eta 0:00:00\n",
            "Downloading pyngrok-7.2.12-py3-none-any.whl (26 kB)\n",
            "Downloading click-8.2.1-py3-none-any.whl (102 kB)\n",
            "   ---------------------------------------- 0.0/102.2 kB ? eta -:--:--\n",
            "   ---------------------------------------- 102.2/102.2 kB 5.7 MB/s eta 0:00:00\n",
            "Installing collected packages: pyngrok, click, uvicorn\n",
            "Successfully installed click-8.2.1 pyngrok-7.2.12 uvicorn-0.35.0\n",
            "Note: you may need to restart the kernel to use updated packages.\n"
          ]
        },
        {
          "name": "stderr",
          "output_type": "stream",
          "text": [
            "\n",
            "[notice] A new release of pip is available: 23.2.1 -> 25.1.1\n",
            "[notice] To update, run: python.exe -m pip install --upgrade pip\n"
          ]
        }
      ],
      "source": [
        "%pip install fastapi uvicorn nest_asyncio pyngrok transformers"
      ]
    },
    {
      "cell_type": "code",
      "execution_count": null,
      "metadata": {
        "colab": {
          "base_uri": "https://localhost:8080/"
        },
        "collapsed": true,
        "id": "whB7B6qnPL2J",
        "outputId": "d17e014e-c4ce-46bb-81af-2134cbc07b3d"
      },
      "outputs": [
        {
          "name": "stdout",
          "output_type": "stream",
          "text": [
            "Authtoken saved to configuration file: /root/.config/ngrok/ngrok.yml\n"
          ]
        },
        {
          "name": "stderr",
          "output_type": "stream",
          "text": [
            "ERROR:asyncio:Task exception was never retrieved\n",
            "future: <Task finished name='Task-61' coro=<Server.serve() done, defined at /usr/local/lib/python3.11/dist-packages/uvicorn/server.py:69> exception=KeyboardInterrupt()>\n",
            "Traceback (most recent call last):\n",
            "  File \"/usr/local/lib/python3.11/dist-packages/uvicorn/main.py\", line 580, in run\n",
            "    server.run()\n",
            "  File \"/usr/local/lib/python3.11/dist-packages/uvicorn/server.py\", line 67, in run\n",
            "    return asyncio.run(self.serve(sockets=sockets))\n",
            "           ^^^^^^^^^^^^^^^^^^^^^^^^^^^^^^^^^^^^^^^^\n",
            "  File \"/usr/local/lib/python3.11/dist-packages/nest_asyncio.py\", line 30, in run\n",
            "    return loop.run_until_complete(task)\n",
            "           ^^^^^^^^^^^^^^^^^^^^^^^^^^^^^\n",
            "  File \"/usr/local/lib/python3.11/dist-packages/nest_asyncio.py\", line 92, in run_until_complete\n",
            "    self._run_once()\n",
            "  File \"/usr/local/lib/python3.11/dist-packages/nest_asyncio.py\", line 133, in _run_once\n",
            "    handle._run()\n",
            "  File \"/usr/lib/python3.11/asyncio/events.py\", line 84, in _run\n",
            "    self._context.run(self._callback, *self._args)\n",
            "  File \"/usr/lib/python3.11/asyncio/tasks.py\", line 360, in __wakeup\n",
            "    self.__step()\n",
            "  File \"/usr/lib/python3.11/asyncio/tasks.py\", line 277, in __step\n",
            "    result = coro.send(None)\n",
            "             ^^^^^^^^^^^^^^^\n",
            "  File \"/usr/local/lib/python3.11/dist-packages/uvicorn/server.py\", line 70, in serve\n",
            "    with self.capture_signals():\n",
            "  File \"/usr/lib/python3.11/contextlib.py\", line 144, in __exit__\n",
            "    next(self.gen)\n",
            "  File \"/usr/local/lib/python3.11/dist-packages/uvicorn/server.py\", line 331, in capture_signals\n",
            "    signal.raise_signal(captured_signal)\n",
            "KeyboardInterrupt\n"
          ]
        },
        {
          "name": "stdout",
          "output_type": "stream",
          "text": [
            "Public API URL: NgrokTunnel: \"https://active-optimal-polliwog.ngrok-free.app\" -> \"http://localhost:8000\"\n"
          ]
        },
        {
          "name": "stderr",
          "output_type": "stream",
          "text": [
            "INFO:     Started server process [458]\n",
            "INFO:     Waiting for application startup.\n",
            "INFO:     Application startup complete.\n",
            "INFO:     Uvicorn running on http://0.0.0.0:8000 (Press CTRL+C to quit)\n"
          ]
        },
        {
          "name": "stdout",
          "output_type": "stream",
          "text": [
            "Encoding text='biology for highschool'...\n",
            "INFO:     116.101.184.146:0 - \"POST /encode HTTP/1.1\" 200 OK\n",
            "Reranking..\n",
            "Completed\n",
            "INFO:     116.101.184.146:0 - \"POST /rerank HTTP/1.1\" 200 OK\n",
            "Encoding text='biology for highschool'...\n",
            "INFO:     116.101.184.146:0 - \"POST /encode HTTP/1.1\" 200 OK\n",
            "Reranking..\n",
            "Completed\n",
            "INFO:     116.101.184.146:0 - \"POST /rerank HTTP/1.1\" 200 OK\n",
            "Encoding text='physic for elementary'...\n",
            "INFO:     116.101.184.146:0 - \"POST /encode HTTP/1.1\" 200 OK\n",
            "Reranking..\n",
            "Completed\n",
            "INFO:     116.101.184.146:0 - \"POST /rerank HTTP/1.1\" 200 OK\n",
            "Encoding text='how to solve linear equation'...\n",
            "INFO:     116.101.184.146:0 - \"POST /encode HTTP/1.1\" 200 OK\n",
            "Reranking..\n",
            "Completed\n",
            "INFO:     116.101.184.146:0 - \"POST /rerank HTTP/1.1\" 200 OK\n",
            "Encoding text='physics for student'...\n",
            "INFO:     116.101.184.146:0 - \"POST /encode HTTP/1.1\" 200 OK\n",
            "Encoding text='physics for student'...\n",
            "INFO:     116.101.184.146:0 - \"POST /encode HTTP/1.1\" 200 OK\n",
            "Reranking..\n",
            "Completed\n",
            "INFO:     116.101.184.146:0 - \"POST /rerank HTTP/1.1\" 200 OK\n",
            "Encoding text='physics for student'...\n",
            "INFO:     116.101.184.146:0 - \"POST /encode HTTP/1.1\" 200 OK\n",
            "Reranking..\n",
            "Completed\n",
            "INFO:     116.101.184.146:0 - \"POST /rerank HTTP/1.1\" 200 OK\n",
            "Encoding text='chemistry'...\n",
            "INFO:     116.101.184.146:0 - \"POST /encode HTTP/1.1\" 200 OK\n",
            "Reranking..\n",
            "Completed\n",
            "INFO:     116.101.184.146:0 - \"POST /rerank HTTP/1.1\" 200 OK\n",
            "Encoding text='chemistry'...\n",
            "INFO:     116.101.184.146:0 - \"POST /encode HTTP/1.1\" 200 OK\n",
            "Reranking..\n",
            "Completed\n",
            "INFO:     116.101.184.146:0 - \"POST /rerank HTTP/1.1\" 200 OK\n"
          ]
        }
      ],
      "source": [
        "from fastapi import FastAPI\n",
        "from pydantic import BaseModel\n",
        "from sentence_transformers import SentenceTransformer, CrossEncoder\n",
        "import torch\n",
        "import uvicorn\n",
        "import nest_asyncio\n",
        "from pyngrok import ngrok\n",
        "import os\n",
        "\n",
        "# Enable FastAPI inside Colab\n",
        "nest_asyncio.apply()\n",
        "\n",
        "os.environ[\"NGROK_AUTHTOKEN\"] = \"2yxPcNMH7MsihB0YF62oRuRUn5E_5bJF4Ng3PPq4qk2Emj789\"\n",
        "!ngrok config add-authtoken $NGROK_AUTHTOKEN\n",
        "\n",
        "# Initialize FastAPI app\n",
        "app = FastAPI()\n",
        "\n",
        "bi_model = SentenceTransformer(\"GphaHoa/academic_all_mpnet_base_v2\")\n",
        "\n",
        "# === Load Cross-encoder model ===\n",
        "cross_encoder = CrossEncoder(\n",
        "    \"GphaHoa/academic_distilroberta_base\",\n",
        "    device=\"cuda\" if torch.cuda.is_available() else \"cpu\"\n",
        ")\n",
        "\n",
        "# === Bi-encoder input ===\n",
        "class TextInput(BaseModel):\n",
        "    text: str\n",
        "\n",
        "# === Cross-encoder input ===\n",
        "class RerankInput(BaseModel):\n",
        "    query: str\n",
        "    passages: list[str]\n",
        "\n",
        "# === Route: Bi-encoder /encode ===\n",
        "@app.post(\"/encode\")\n",
        "def encode(input: TextInput):\n",
        "    print(f\"Encoding {input}...\")\n",
        "    embedding = bi_model.encode(input.text).tolist()\n",
        "    return {\"embedding\": embedding}\n",
        "\n",
        "# === Route: Cross-encoder /rerank ===\n",
        "@app.post(\"/rerank\")\n",
        "def rerank(input: RerankInput):\n",
        "    query = input.query\n",
        "    passages = input.passages\n",
        "    pairs = [(query, p) for p in passages]\n",
        "    print(\"Reranking..\")\n",
        "    reranked = cross_encoder.rank(query, passages, return_documents=True)\n",
        "\n",
        "    sorted_passages = [entry[\"text\"] for entry in reranked]\n",
        "    scores = [float(entry[\"score\"]) for entry in reranked]\n",
        "    print(\"Completed\")\n",
        "    return {\n",
        "        \"scores\": scores,\n",
        "        \"sorted_passages\": sorted_passages\n",
        "    }\n",
        "\n",
        "public_url = ngrok.connect(addr=8000, domain=\"active-optimal-polliwog.ngrok-free.app\")\n",
        "print(\"Public API URL:\", public_url)\n",
        "\n",
        "# Run server\n",
        "uvicorn.run(app, host=\"0.0.0.0\", port=8000)"
      ]
    },
    {
      "cell_type": "code",
      "execution_count": null,
      "metadata": {
        "id": "5fCgo8hda7dp"
      },
      "outputs": [],
      "source": []
    }
  ],
  "metadata": {
    "accelerator": "GPU",
    "colab": {
      "gpuType": "T4",
      "provenance": []
    },
    "kernelspec": {
      "display_name": "Python 3",
      "name": "python3"
    },
    "language_info": {
      "codemirror_mode": {
        "name": "ipython",
        "version": 3
      },
      "file_extension": ".py",
      "mimetype": "text/x-python",
      "name": "python",
      "nbconvert_exporter": "python",
      "pygments_lexer": "ipython3",
      "version": "3.11.5"
    }
  },
  "nbformat": 4,
  "nbformat_minor": 0
}
